{
  "cells": [
    {
      "cell_type": "code",
      "execution_count": null,
      "metadata": {
        "id": "WLeZc0LVs8qy"
      },
      "outputs": [],
      "source": [
        "import tensorflow as tf\n",
        "\n",
        "import numpy as np\n",
        "import os\n",
        "import time"
      ]
    },
    {
      "cell_type": "code",
      "execution_count": null,
      "metadata": {
        "colab": {
          "base_uri": "https://localhost:8080/"
        },
        "id": "Y0tBphwLvBRS",
        "outputId": "49577b96-9a13-4099-ac46-06ecdaf7420a"
      },
      "outputs": [
        {
          "output_type": "stream",
          "name": "stdout",
          "text": [
            "Downloading data from https://storage.googleapis.com/download.tensorflow.org/data/shakespeare.txt\n",
            "1115394/1115394 [==============================] - 0s 0us/step\n"
          ]
        }
      ],
      "source": [
        "path_to_file = tf.keras.utils.get_file('shakespeare.txt', 'https://storage.googleapis.com/download.tensorflow.org/data/shakespeare.txt')"
      ]
    },
    {
      "cell_type": "code",
      "execution_count": null,
      "metadata": {
        "colab": {
          "base_uri": "https://localhost:8080/"
        },
        "id": "DZCw20CKvBTy",
        "outputId": "0b2e313e-a10b-4045-fb81-e823f25c4a4d"
      },
      "outputs": [
        {
          "output_type": "stream",
          "name": "stdout",
          "text": [
            "Length of text: 1115394 characters\n"
          ]
        }
      ],
      "source": [
        "# Read, then decode for py2 compat.\n",
        "text = open(path_to_file, 'rb').read().decode(encoding='utf-8')\n",
        "# length of text is the number of characters in it\n",
        "print(f'Length of text: {len(text)} characters')"
      ]
    },
    {
      "cell_type": "code",
      "execution_count": null,
      "metadata": {
        "colab": {
          "base_uri": "https://localhost:8080/"
        },
        "id": "7wWJ9qfuvBXJ",
        "outputId": "62fdb9e8-3bb6-4065-8d21-5c3382129c8b"
      },
      "outputs": [
        {
          "output_type": "stream",
          "name": "stdout",
          "text": [
            "First Citizen:\n",
            "Before we proceed any further, hear me speak.\n",
            "\n",
            "All:\n",
            "Speak, speak.\n",
            "\n",
            "First Citizen:\n",
            "You are all resolved rather to die than to famish?\n",
            "\n",
            "All:\n",
            "Resolved. resolved.\n",
            "\n",
            "First Citizen:\n",
            "First, you know Caius Marcius is chief enemy to the people.\n",
            "\n"
          ]
        }
      ],
      "source": [
        "# Take a look at the first 250 characters in text\n",
        "print(text[:250])"
      ]
    },
    {
      "cell_type": "markdown",
      "metadata": {
        "id": "W6-R9_CL7Kaq"
      },
      "source": [
        "**Creating a unique mapping from characters to indices:**"
      ]
    },
    {
      "cell_type": "code",
      "execution_count": null,
      "metadata": {
        "id": "kITAipFfvBaF"
      },
      "outputs": [],
      "source": [
        "vocab = sorted(set(text))"
      ]
    },
    {
      "cell_type": "code",
      "execution_count": null,
      "metadata": {
        "id": "hYDFKAU4vBdD"
      },
      "outputs": [],
      "source": [
        "char2idx = {u:i for i , u in enumerate(vocab)}\n",
        "\n",
        "idx2char = np.array(vocab)"
      ]
    },
    {
      "cell_type": "code",
      "execution_count": null,
      "metadata": {
        "id": "jpIwek6kvBgU"
      },
      "outputs": [],
      "source": [
        "def text_to_int(text):\n",
        "   return np.array([char2idx[c] for c in text])\n",
        "   "
      ]
    },
    {
      "cell_type": "code",
      "execution_count": null,
      "metadata": {
        "id": "qEplXU5HvBjI"
      },
      "outputs": [],
      "source": [
        "text_as_int = text_to_int(text)"
      ]
    },
    {
      "cell_type": "code",
      "execution_count": null,
      "metadata": {
        "colab": {
          "base_uri": "https://localhost:8080/"
        },
        "id": "1oU9qslfvBl4",
        "outputId": "2b90cb13-f0fb-482a-db1a-48acba56ed1f"
      },
      "outputs": [
        {
          "output_type": "stream",
          "name": "stdout",
          "text": [
            "Text: First Citizen:\n",
            "Befor\n",
            "Encoded: [18 47 56 57 58  1 15 47 58 47 64 43 52 10  0 14 43 44 53 56]\n"
          ]
        }
      ],
      "source": [
        "#Checking the results:\n",
        "print(\"Text:\", text[:20])\n",
        "print(\"Encoded:\", text_as_int[:20])\n"
      ]
    },
    {
      "cell_type": "code",
      "execution_count": null,
      "metadata": {
        "id": "qp5nvNqzvBou"
      },
      "outputs": [],
      "source": [
        "def int_to_text(ints):\n",
        "  try:\n",
        "    ints = ints.numpy()\n",
        "\n",
        "  except:\n",
        "    pass\n",
        "\n",
        "  return ''.join(idx2char[ints])\n"
      ]
    },
    {
      "cell_type": "code",
      "execution_count": null,
      "metadata": {
        "id": "dYwDUWjevBr0",
        "colab": {
          "base_uri": "https://localhost:8080/"
        },
        "outputId": "e457e4c4-1c61-4642-948b-186ce47bac6a"
      },
      "outputs": [
        {
          "output_type": "stream",
          "name": "stdout",
          "text": [
            "First Citizen:\n",
            "Befor\n"
          ]
        }
      ],
      "source": [
        "print(int_to_text(text_as_int[:20]))"
      ]
    },
    {
      "cell_type": "markdown",
      "source": [
        "**Training Examples:**"
      ],
      "metadata": {
        "id": "z1_fMchDch-E"
      }
    },
    {
      "cell_type": "code",
      "execution_count": null,
      "metadata": {
        "id": "FO9vivKlvBva"
      },
      "outputs": [],
      "source": [
        "seq_length = 100 #length of sequence for a training example\n",
        "\n",
        "examples_epoch = len(text)//(seq_length+1)\n",
        "\n"
      ]
    },
    {
      "cell_type": "code",
      "source": [
        "#creating training examples / target\n",
        "\n",
        "char_dataset = tf.data.Dataset.from_tensor_slices(text_as_int)"
      ],
      "metadata": {
        "id": "J_k9q81edUhC"
      },
      "execution_count": null,
      "outputs": []
    },
    {
      "cell_type": "code",
      "source": [
        "#We use the batch method to turn this stream of characters into batchs of the desire length\n",
        "sequences = char_dataset.batch(seq_length+1 , drop_remainder=True)"
      ],
      "metadata": {
        "id": "DsMams6vdUpF"
      },
      "execution_count": null,
      "outputs": []
    },
    {
      "cell_type": "code",
      "source": [
        "#we split the sequences into input and output \n",
        "def split_input_target(chunk):\n",
        "  input_text = chunk[:-1]\n",
        "  target_text = chunk[1:]\n",
        "\n",
        "  return input_text , target_text\n",
        "  "
      ],
      "metadata": {
        "id": "i7DN5fONdUr9"
      },
      "execution_count": null,
      "outputs": []
    },
    {
      "cell_type": "code",
      "source": [
        "dataset = sequences.map(split_input_target)\n"
      ],
      "metadata": {
        "id": "dmeG8H-tdUuq"
      },
      "execution_count": null,
      "outputs": []
    },
    {
      "cell_type": "code",
      "source": [
        "for x,y in dataset.take(2):\n",
        "  print('\\n\\n Example \\n\\n')\n",
        "  print(\"INPUT\")\n",
        "  print(int_to_text(x))\n",
        "  print(\"\\n OUTPUT \\n\")\n",
        "  print(int_to_text(y))\n",
        "  \n"
      ],
      "metadata": {
        "colab": {
          "base_uri": "https://localhost:8080/"
        },
        "id": "Q8Bh2F0-dUyH",
        "outputId": "a169b901-5688-4bc5-b836-a36461f3c8c3"
      },
      "execution_count": null,
      "outputs": [
        {
          "output_type": "stream",
          "name": "stdout",
          "text": [
            "\n",
            "\n",
            " Example \n",
            "\n",
            "\n",
            "INPUT\n",
            "First Citizen:\n",
            "Before we proceed any further, hear me speak.\n",
            "\n",
            "All:\n",
            "Speak, speak.\n",
            "\n",
            "First Citizen:\n",
            "You\n",
            "\n",
            " OUTPUT \n",
            "\n",
            "irst Citizen:\n",
            "Before we proceed any further, hear me speak.\n",
            "\n",
            "All:\n",
            "Speak, speak.\n",
            "\n",
            "First Citizen:\n",
            "You \n",
            "\n",
            "\n",
            " Example \n",
            "\n",
            "\n",
            "INPUT\n",
            "are all resolved rather to die than to famish?\n",
            "\n",
            "All:\n",
            "Resolved. resolved.\n",
            "\n",
            "First Citizen:\n",
            "First, you \n",
            "\n",
            " OUTPUT \n",
            "\n",
            "re all resolved rather to die than to famish?\n",
            "\n",
            "All:\n",
            "Resolved. resolved.\n",
            "\n",
            "First Citizen:\n",
            "First, you k\n"
          ]
        }
      ]
    },
    {
      "cell_type": "code",
      "source": [
        "BATCH_SIZE = 64\n",
        "VOCAB_SIZE = len(vocab)\n",
        "DIM = 256\n",
        "RNN_UNITS = 1024\n",
        "\n",
        "BUFFER_SIZE = 10000\n",
        "\n",
        "dataset = dataset.shuffle(BUFFER_SIZE).batch(BATCH_SIZE,drop_remainder=True)\n"
      ],
      "metadata": {
        "id": "FAeekzIni3c_"
      },
      "execution_count": null,
      "outputs": []
    },
    {
      "cell_type": "code",
      "source": [
        "def build_model(vocab_size,dim,rnn_units,batch_size):\n",
        "  model = tf.keras.Sequential([tf.keras.layers.Embedding(vocab_size,dim,batch_input_shape=[batch_size , None]),\n",
        "                               tf.keras.layers.LSTM(rnn_units, return_sequences =True, stateful=True, recurrent_initializer ='glorot_uniform'),\n",
        "                               tf.keras.layers.Dense(vocab_size)\n",
        "                               ])\n",
        "  return model "
      ],
      "metadata": {
        "id": "XRxWT816i3nA"
      },
      "execution_count": null,
      "outputs": []
    },
    {
      "cell_type": "code",
      "source": [
        "model = build_model(VOCAB_SIZE,DIM,RNN_UNITS,BATCH_SIZE)\n"
      ],
      "metadata": {
        "id": "g5XJfPI_i3uK"
      },
      "execution_count": null,
      "outputs": []
    },
    {
      "cell_type": "code",
      "source": [
        "model.summary()"
      ],
      "metadata": {
        "colab": {
          "base_uri": "https://localhost:8080/"
        },
        "id": "U4OD3XLOi33k",
        "outputId": "066eb132-83f5-49ed-e8cd-2977f5a1d523"
      },
      "execution_count": null,
      "outputs": [
        {
          "output_type": "stream",
          "name": "stdout",
          "text": [
            "Model: \"sequential\"\n",
            "_________________________________________________________________\n",
            " Layer (type)                Output Shape              Param #   \n",
            "=================================================================\n",
            " embedding (Embedding)       (64, None, 256)           16640     \n",
            "                                                                 \n",
            " lstm (LSTM)                 (64, None, 1024)          5246976   \n",
            "                                                                 \n",
            " dense (Dense)               (64, None, 65)            66625     \n",
            "                                                                 \n",
            "=================================================================\n",
            "Total params: 5,330,241\n",
            "Trainable params: 5,330,241\n",
            "Non-trainable params: 0\n",
            "_________________________________________________________________\n"
          ]
        }
      ]
    },
    {
      "cell_type": "code",
      "source": [
        "for input_example_batch , target_example_batch in dataset.take(1):\n",
        "  example_pred = model(input_example_batch)\n",
        "  print(example_pred.shape,\"# batch_size , seuqence_length , vocab_size\")\n"
      ],
      "metadata": {
        "colab": {
          "base_uri": "https://localhost:8080/"
        },
        "id": "vMMdw_czqBkJ",
        "outputId": "60591ec5-b114-41e8-f4c1-57a4985e9534"
      },
      "execution_count": null,
      "outputs": [
        {
          "output_type": "stream",
          "name": "stdout",
          "text": [
            "(64, 100, 65) # batch_size , seuqence_length , vocab_size\n"
          ]
        }
      ]
    },
    {
      "cell_type": "code",
      "source": [
        "print(len(example_pred))\n",
        "print(example_pred)\n"
      ],
      "metadata": {
        "colab": {
          "base_uri": "https://localhost:8080/"
        },
        "id": "8sy7s5GBAMiv",
        "outputId": "68eb79fe-0581-4087-c0eb-a87782b8a033"
      },
      "execution_count": null,
      "outputs": [
        {
          "output_type": "stream",
          "name": "stdout",
          "text": [
            "64\n",
            "tf.Tensor(\n",
            "[[[-0.00108819 -0.00011969 -0.00149626 ...  0.00129127  0.00169046\n",
            "   -0.00181506]\n",
            "  [ 0.00174495  0.00432537 -0.00495144 ...  0.00388869 -0.00306225\n",
            "    0.00066089]\n",
            "  [-0.00072494  0.00102727  0.00330982 ...  0.00115686 -0.00336728\n",
            "    0.00140809]\n",
            "  ...\n",
            "  [-0.00268858 -0.0062227   0.003089   ...  0.00195051 -0.00879071\n",
            "    0.0032316 ]\n",
            "  [-0.00075204  0.0004356   0.00074658 ...  0.00318383 -0.00829858\n",
            "    0.00449194]\n",
            "  [-0.00205088 -0.00578837  0.00373034 ...  0.00013473 -0.00759754\n",
            "    0.00345033]]\n",
            "\n",
            " [[ 0.00202229  0.00377508 -0.00243458 ...  0.00222453 -0.00335881\n",
            "    0.00120754]\n",
            "  [-0.00555399 -0.0024911   0.00077622 ... -0.00049636 -0.00383851\n",
            "   -0.00237134]\n",
            "  [-0.00289193 -0.00371512 -0.00298675 ... -0.00079004  0.00251735\n",
            "   -0.00528368]\n",
            "  ...\n",
            "  [-0.00053846  0.00735475 -0.00186109 ...  0.00679071 -0.00144884\n",
            "    0.00225439]\n",
            "  [-0.00611201  0.01260145  0.00107231 ...  0.00980412 -0.00047108\n",
            "    0.00133855]\n",
            "  [-0.01202439  0.0086741   0.00051927 ...  0.00801107  0.00110566\n",
            "   -0.00070635]]\n",
            "\n",
            " [[-0.0017555   0.00026986  0.00090101 ... -0.00274301 -0.0058319\n",
            "   -0.00104524]\n",
            "  [-0.00392951 -0.00350189  0.00341984 ... -0.00465368 -0.00411638\n",
            "    0.00378975]\n",
            "  [-0.00011255 -0.00329589  0.00048024 ...  0.00097857 -0.0070792\n",
            "    0.0069821 ]\n",
            "  ...\n",
            "  [-0.00220807 -0.00260716  0.00184655 ...  0.00042998 -0.00261519\n",
            "   -0.00947588]\n",
            "  [-0.00153543 -0.00096456  0.00107689 ...  0.00600652 -0.00549886\n",
            "   -0.01418585]\n",
            "  [-0.00030362 -0.00241672 -0.00451423 ...  0.00091361 -0.00444043\n",
            "   -0.01556096]]\n",
            "\n",
            " ...\n",
            "\n",
            " [[ 0.00334822 -0.00109969 -0.00146981 ...  0.00389333 -0.00339345\n",
            "    0.00430855]\n",
            "  [-0.00358734 -0.00309793  0.00324184 ...  0.00348803  0.00018304\n",
            "    0.00306927]\n",
            "  [-0.000156    0.00149403  0.00246329 ... -0.00028843  0.00274859\n",
            "    0.00138751]\n",
            "  ...\n",
            "  [ 0.00131563  0.00805625  0.00111939 ...  0.0040872  -0.00249093\n",
            "   -0.00895389]\n",
            "  [-0.00013567 -0.00111002  0.00318767 ...  0.00117878 -0.0033177\n",
            "   -0.00772706]\n",
            "  [-0.00242656 -0.00287831  0.01001241 ... -0.00105737 -0.0017754\n",
            "   -0.00563709]]\n",
            "\n",
            " [[ 0.00379711  0.00544338 -0.00252189 ...  0.00473837  0.00055823\n",
            "   -0.0067895 ]\n",
            "  [ 0.00983008  0.01048007 -0.00282161 ...  0.00832884  0.00145311\n",
            "   -0.00037588]\n",
            "  [ 0.01398021  0.01379355 -0.00302833 ...  0.01111791  0.00132652\n",
            "    0.00491213]\n",
            "  ...\n",
            "  [ 0.0023149   0.00161542 -0.00319485 ...  0.00462451  0.00688435\n",
            "   -0.01296961]\n",
            "  [ 0.00427365 -0.0011858  -0.00409038 ...  0.00755385  0.00269521\n",
            "   -0.00579319]\n",
            "  [ 0.00488393 -0.0017715  -0.00398564 ...  0.00992356  0.00072646\n",
            "   -0.00020479]]\n",
            "\n",
            " [[ 0.00334822 -0.00109969 -0.00146981 ...  0.00389333 -0.00339345\n",
            "    0.00430855]\n",
            "  [ 0.0055546  -0.0060497  -0.00342774 ...  0.00242379  0.00089009\n",
            "    0.00349229]\n",
            "  [ 0.00684499  0.00202171 -0.00404454 ...  0.00652877  0.00229366\n",
            "   -0.00456718]\n",
            "  ...\n",
            "  [-0.00223309 -0.00139198  0.00276695 ...  0.00612443 -0.00416653\n",
            "   -0.01502919]\n",
            "  [-0.00197207 -0.0029527  -0.00336942 ...  0.00125488 -0.00312499\n",
            "   -0.0162429 ]\n",
            "  [ 0.00026703  0.00109381 -0.00430511 ...  0.00298261 -0.0037332\n",
            "   -0.01117819]]], shape=(64, 100, 65), dtype=float32)\n"
          ]
        }
      ]
    },
    {
      "cell_type": "code",
      "source": [
        "pred = example_pred[0]\n",
        "print(len(pred))\n",
        "print(pred)"
      ],
      "metadata": {
        "colab": {
          "base_uri": "https://localhost:8080/"
        },
        "id": "9Iorya_SAMmM",
        "outputId": "32436834-764d-4f0b-a962-1cd9a5a48aa0"
      },
      "execution_count": null,
      "outputs": [
        {
          "output_type": "stream",
          "name": "stdout",
          "text": [
            "100\n",
            "tf.Tensor(\n",
            "[[-0.00108819 -0.00011969 -0.00149626 ...  0.00129127  0.00169046\n",
            "  -0.00181506]\n",
            " [ 0.00174495  0.00432537 -0.00495144 ...  0.00388869 -0.00306225\n",
            "   0.00066089]\n",
            " [-0.00072494  0.00102727  0.00330982 ...  0.00115686 -0.00336728\n",
            "   0.00140809]\n",
            " ...\n",
            " [-0.00268858 -0.0062227   0.003089   ...  0.00195051 -0.00879071\n",
            "   0.0032316 ]\n",
            " [-0.00075204  0.0004356   0.00074658 ...  0.00318383 -0.00829858\n",
            "   0.00449194]\n",
            " [-0.00205088 -0.00578837  0.00373034 ...  0.00013473 -0.00759754\n",
            "   0.00345033]], shape=(100, 65), dtype=float32)\n"
          ]
        }
      ]
    },
    {
      "cell_type": "code",
      "source": [
        "time_pred = pred[0]\n",
        "print(len(time_pred))\n",
        "print(time_pred)\n"
      ],
      "metadata": {
        "colab": {
          "base_uri": "https://localhost:8080/"
        },
        "id": "frFscMPNEdLC",
        "outputId": "d340bf34-1108-4e46-b7a8-10a0fb252b3d"
      },
      "execution_count": null,
      "outputs": [
        {
          "output_type": "stream",
          "name": "stdout",
          "text": [
            "65\n",
            "tf.Tensor(\n",
            "[-1.0881887e-03 -1.1969221e-04 -1.4962550e-03  3.1207073e-03\n",
            "  2.0411960e-03  3.0724853e-03 -6.0819415e-04  2.2677861e-03\n",
            "  3.3034699e-04 -3.1744014e-03  1.9894186e-03 -2.1346423e-03\n",
            " -6.0013919e-03  3.6695688e-03  1.0443723e-02 -6.0492046e-03\n",
            "  5.9167715e-04  2.3597470e-03 -4.5027202e-03  1.9788693e-03\n",
            " -8.5941050e-05  2.4498650e-04 -2.7856920e-03 -3.6234627e-03\n",
            "  7.7233282e-03  2.3880803e-03 -1.5861066e-03  1.4620502e-03\n",
            " -3.9493176e-03 -5.0023557e-03  2.5803405e-03 -5.3438600e-03\n",
            "  3.4293626e-05  4.3784478e-03  7.0142309e-04 -7.3323725e-04\n",
            " -2.8947005e-03  5.7223113e-03 -3.7392720e-03 -4.9624741e-03\n",
            "  2.9963865e-03  5.8890395e-03 -3.8910853e-03 -2.3204086e-03\n",
            " -5.1123551e-03 -6.2122028e-03 -1.1151535e-03  6.3097104e-06\n",
            "  3.1548548e-03  1.8876063e-03 -4.0762266e-03  2.1187186e-03\n",
            " -6.7787175e-04 -8.8218681e-04 -6.0043894e-03 -2.1485281e-03\n",
            " -3.4145964e-03 -3.2267591e-03  7.8867911e-04 -4.5985132e-03\n",
            "  6.4971573e-03  1.0865321e-03  1.2912744e-03  1.6904571e-03\n",
            " -1.8150570e-03], shape=(65,), dtype=float32)\n"
          ]
        }
      ]
    },
    {
      "cell_type": "code",
      "source": [
        "samples_indices = tf.random.categorical(pred,num_samples = 1)\n",
        "\n",
        "samples_indices = np.reshape(samples_indices , (1,-1))[0]\n",
        "\n",
        "pred_chars = int_to_text(samples_indices)\n"
      ],
      "metadata": {
        "id": "YLzwDAO1EdN0"
      },
      "execution_count": null,
      "outputs": []
    },
    {
      "cell_type": "code",
      "source": [
        "pred_chars"
      ],
      "metadata": {
        "colab": {
          "base_uri": "https://localhost:8080/",
          "height": 36
        },
        "id": "agNWWn_nEdPs",
        "outputId": "671067d1-4259-41cb-e6ee-73d8675cbfd9"
      },
      "execution_count": null,
      "outputs": [
        {
          "output_type": "execute_result",
          "data": {
            "text/plain": [
              "'XQnooJ:3Kw;o&FvjcOzowAzDZ$$DIs\\nI,$&wpwjNJXavKAo IBcq.Qy$:Rj;hA:fe?OdYX,VsRVB;3xk\\n,nbLLJwLFkWo:?UikU&'"
            ],
            "application/vnd.google.colaboratory.intrinsic+json": {
              "type": "string"
            }
          },
          "metadata": {},
          "execution_count": 27
        }
      ]
    },
    {
      "cell_type": "code",
      "source": [
        "def loss (labels,logits):\n",
        "  return tf.keras.losses.sparse_categorical_crossentropy(labels, logits, from_logits =True)\n",
        "  "
      ],
      "metadata": {
        "id": "bVuGIm7HEdTG"
      },
      "execution_count": null,
      "outputs": []
    },
    {
      "cell_type": "markdown",
      "source": [
        "**Compiling the model**"
      ],
      "metadata": {
        "id": "notiIxY1FuK-"
      }
    },
    {
      "cell_type": "code",
      "source": [
        "model.compile(optimizer ='adam',loss = loss)"
      ],
      "metadata": {
        "id": "Wqkutw3nFxIV"
      },
      "execution_count": null,
      "outputs": []
    },
    {
      "cell_type": "code",
      "source": [
        "epochs = 40\n",
        "checkpoint_callback = tf.keras.callbacks.ModelCheckpoint(\n",
        "    filepath = \"./training_checkpoints/ckpt_{epoch}\", save_freq='epoch',\n",
        "    save_weights_only=True\n",
        ")\n"
      ],
      "metadata": {
        "id": "DRsc53tzGK6c"
      },
      "execution_count": null,
      "outputs": []
    },
    {
      "cell_type": "markdown",
      "source": [
        "**Training the model**"
      ],
      "metadata": {
        "id": "83YalgMgJNM8"
      }
    },
    {
      "cell_type": "code",
      "source": [
        "history = model.fit(dataset, epochs =epochs, callbacks =[checkpoint_callback])\n"
      ],
      "metadata": {
        "colab": {
          "base_uri": "https://localhost:8080/"
        },
        "id": "HBD3BuVJGK9Q",
        "outputId": "ac6b9993-da55-483c-f917-e958e69ad5bd"
      },
      "execution_count": null,
      "outputs": [
        {
          "output_type": "stream",
          "name": "stdout",
          "text": [
            "Epoch 1/40\n",
            "172/172 [==============================] - 15s 70ms/step - loss: 1.6103\n",
            "Epoch 2/40\n",
            "172/172 [==============================] - 14s 72ms/step - loss: 1.4866\n",
            "Epoch 3/40\n",
            "172/172 [==============================] - 15s 75ms/step - loss: 1.4110\n",
            "Epoch 4/40\n",
            "172/172 [==============================] - 17s 75ms/step - loss: 1.3567\n",
            "Epoch 5/40\n",
            "172/172 [==============================] - 16s 75ms/step - loss: 1.3126\n",
            "Epoch 6/40\n",
            "172/172 [==============================] - 16s 74ms/step - loss: 1.2732\n",
            "Epoch 7/40\n",
            "172/172 [==============================] - 16s 72ms/step - loss: 1.2372\n",
            "Epoch 8/40\n",
            "172/172 [==============================] - 14s 74ms/step - loss: 1.2019\n",
            "Epoch 9/40\n",
            "172/172 [==============================] - 16s 76ms/step - loss: 1.1654\n",
            "Epoch 10/40\n",
            "172/172 [==============================] - 15s 74ms/step - loss: 1.1294\n",
            "Epoch 11/40\n",
            "172/172 [==============================] - 14s 74ms/step - loss: 1.0913\n",
            "Epoch 12/40\n",
            "172/172 [==============================] - 15s 73ms/step - loss: 1.0521\n",
            "Epoch 13/40\n",
            "172/172 [==============================] - 17s 77ms/step - loss: 1.0113\n",
            "Epoch 14/40\n",
            "172/172 [==============================] - 16s 79ms/step - loss: 0.9712\n",
            "Epoch 15/40\n",
            "172/172 [==============================] - 14s 74ms/step - loss: 0.9300\n",
            "Epoch 16/40\n",
            "172/172 [==============================] - 15s 72ms/step - loss: 0.8890\n",
            "Epoch 17/40\n",
            "172/172 [==============================] - 14s 72ms/step - loss: 0.8509\n",
            "Epoch 18/40\n",
            "172/172 [==============================] - 15s 74ms/step - loss: 0.8140\n",
            "Epoch 19/40\n",
            "172/172 [==============================] - 15s 77ms/step - loss: 0.7779\n",
            "Epoch 20/40\n",
            "172/172 [==============================] - 14s 73ms/step - loss: 0.7437\n",
            "Epoch 21/40\n",
            "172/172 [==============================] - 14s 73ms/step - loss: 0.7138\n",
            "Epoch 22/40\n",
            "172/172 [==============================] - 14s 73ms/step - loss: 0.6874\n",
            "Epoch 23/40\n",
            "172/172 [==============================] - 15s 73ms/step - loss: 0.6613\n",
            "Epoch 24/40\n",
            "172/172 [==============================] - 14s 73ms/step - loss: 0.6383\n",
            "Epoch 25/40\n",
            "172/172 [==============================] - 15s 75ms/step - loss: 0.6184\n",
            "Epoch 26/40\n",
            "172/172 [==============================] - 15s 77ms/step - loss: 0.5981\n",
            "Epoch 27/40\n",
            "172/172 [==============================] - 15s 75ms/step - loss: 0.5818\n",
            "Epoch 28/40\n",
            "172/172 [==============================] - 15s 72ms/step - loss: 0.5656\n",
            "Epoch 29/40\n",
            "172/172 [==============================] - 14s 72ms/step - loss: 0.5506\n",
            "Epoch 30/40\n",
            "172/172 [==============================] - 15s 74ms/step - loss: 0.5388\n",
            "Epoch 31/40\n",
            "172/172 [==============================] - 15s 76ms/step - loss: 0.5265\n",
            "Epoch 32/40\n",
            "172/172 [==============================] - 16s 74ms/step - loss: 0.5183\n",
            "Epoch 33/40\n",
            "172/172 [==============================] - 16s 74ms/step - loss: 0.5103\n",
            "Epoch 34/40\n",
            "172/172 [==============================] - 15s 74ms/step - loss: 0.4999\n",
            "Epoch 35/40\n",
            "172/172 [==============================] - 15s 75ms/step - loss: 0.4927\n",
            "Epoch 36/40\n",
            "172/172 [==============================] - 15s 76ms/step - loss: 0.4847\n",
            "Epoch 37/40\n",
            "172/172 [==============================] - 16s 74ms/step - loss: 0.4774\n",
            "Epoch 38/40\n",
            "172/172 [==============================] - 14s 72ms/step - loss: 0.4724\n",
            "Epoch 39/40\n",
            "172/172 [==============================] - 14s 73ms/step - loss: 0.4675\n",
            "Epoch 40/40\n",
            "172/172 [==============================] - 14s 74ms/step - loss: 0.4608\n"
          ]
        }
      ]
    },
    {
      "cell_type": "markdown",
      "source": [
        "**Load the model**"
      ],
      "metadata": {
        "id": "ceOdZD0rJigT"
      }
    },
    {
      "cell_type": "code",
      "source": [
        "model = build_model(VOCAB_SIZE,DIM,RNN_UNITS,batch_size =1)\n"
      ],
      "metadata": {
        "id": "D7p_77GgGK_v"
      },
      "execution_count": null,
      "outputs": []
    },
    {
      "cell_type": "code",
      "source": [
        "model.load_weights(tf.train.latest_checkpoint('./training_checkpoints'))\n",
        "model.build(tf.TensorShape([1,None]))\n",
        "\n"
      ],
      "metadata": {
        "id": "vUmDU84uGLDO"
      },
      "execution_count": null,
      "outputs": []
    },
    {
      "cell_type": "code",
      "source": [
        "def generate_text(model,start_string):\n",
        "  num_generate = 800\n",
        "  input_eval = [char2idx[s] for s in start_string]\n",
        "\n",
        "  input_eval = tf.expand_dims(input_eval, 0)\n",
        "  \n",
        "\n",
        "\n",
        "  text_generated = []\n",
        "\n",
        "\n",
        "  temp =1.0\n",
        "\n",
        "  model.reset_states()\n",
        "  for i in range(num_generate):\n",
        "    pred = model(input_eval)\n",
        "\n",
        "    pred = tf.squeeze(pred,0)\n",
        "\n",
        "    pred = pred / temp\n",
        "\n",
        "    pred_id = tf.random.categorical(pred ,num_samples= 1)[-1,0].numpy()\n",
        "\n",
        "    input_eval = tf.expand_dims([pred_id],0)\n",
        "    text_generated.append(idx2char[pred_id])\n",
        "\n",
        "  return (start_string +''.join(text_generated))\n"
      ],
      "metadata": {
        "id": "7vl7KaLnMU7t"
      },
      "execution_count": null,
      "outputs": []
    },
    {
      "cell_type": "code",
      "source": [
        "inp = input('Type something:')\n",
        "print(generate_text(model,inp))"
      ],
      "metadata": {
        "colab": {
          "base_uri": "https://localhost:8080/"
        },
        "id": "P3e6eEedN_75",
        "outputId": "5b3b610a-d8ee-4a4d-9c72-b1ccf2a8d102"
      },
      "execution_count": null,
      "outputs": [
        {
          "output_type": "stream",
          "name": "stdout",
          "text": [
            "Type something:romeo\n",
            "romeof my friends; I'll be your butchery grower.\n",
            "\n",
            "GLOUCESTER:\n",
            "Why, there thou hast twhat fatal still.\n",
            "Courage, my masters! honour now of Junish wars,\n",
            "His head is but one being off; see them dead:\n",
            "Or, with the hazard of he stands for what; it was\n",
            "ever\n",
            "tender your extremes; Richard and Glordon\n",
            "After the Duke of Norfolk, Thomas tapster? let's to't.\n",
            "\n",
            "BRUTUS:\n",
            "Not to them compension to unfold.\n",
            "\n",
            "LORD WILLOUGHBY:\n",
            "Be not so many more towns and be;\n",
            "His hand that was; which was done a husband;\n",
            "I am not married. Well and good sir: for that I have prevented them;\n",
            "And, though I with a goodly son, which thou didst confess\n",
            "A knature to comm;\n",
            "And welcome, Juliet.\n",
            "\n",
            "ARCHIDAMUS:\n",
            "I think she too, and but a sight o'erwick grieves,\n",
            "For much that way they chop against the towns.\n",
            "\n",
            "QUEEN MARGARET:\n",
            "Thanks, gentle Warwick\n"
          ]
        }
      ]
    },
    {
      "cell_type": "code",
      "source": [],
      "metadata": {
        "id": "Uz45EyIcOUzX"
      },
      "execution_count": null,
      "outputs": []
    }
  ],
  "metadata": {
    "colab": {
      "provenance": []
    },
    "kernelspec": {
      "display_name": "Python 3",
      "name": "python3"
    },
    "language_info": {
      "name": "python"
    },
    "accelerator": "GPU",
    "gpuClass": "standard"
  },
  "nbformat": 4,
  "nbformat_minor": 0
}